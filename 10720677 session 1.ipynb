{
 "cells": [
  {
   "cell_type": "raw",
   "metadata": {},
   "source": [
    "\n",
    "QUESTION 1\n",
    "Write a program to display the square root of even numbers between 1 and 50"
   ]
  },
  {
   "cell_type": "code",
   "execution_count": null,
   "metadata": {},
   "outputs": [],
   "source": [
    "#Program to display the squareroot of even numbers from 1 to 50\n",
    "for number in range (1,50):\n",
    "    #Check if nymber is even\n",
    "    if number % 2 == 0:\n",
    "        number = number ** 2\n",
    "        #Print out even number\n",
    "        print(number, ' is even')                                                  \n",
    "    else:\n",
    "        #Indicate that number is odd\n",
    "        print(str(number) + ' is odd')"
   ]
  },
  {
   "cell_type": "raw",
   "metadata": {},
   "source": [
    "\n",
    "QUESTION 2\n",
    "Write a program to generate an array of 10 random whole numbers with the lower limit and the upper limit coming from a user input.\\ This means that a user would define the lower boundary of the array as well as the upper boundary by providing an input for both values.\\ And then you generate an array/list of random numbers that falls within the given user input.\n",
    "\n",
    "Hint: You may use the random method imported to help you generate the numbers"
   ]
  },
  {
   "cell_type": "code",
   "execution_count": null,
   "metadata": {},
   "outputs": [],
   "source": [
    "#Program to generate an array of 10 random numbers from i to n, i=lower limit and n upper limit append them to a list\n",
    "import random\n",
    "\n",
    "#Ask user for Lower and Upper limits \n",
    "print (\"Enter upper and lower limits to generate random numbers\", )\n",
    "\n",
    "#Accept user input\n",
    "lowerlimit = int(input())\n",
    "upperlimit = int(input())\n",
    "\n",
    "#Function to generate and append random numbers in array\n",
    "def Rand(lowerlimit, upperlimit):\n",
    "    resArray = []\n",
    "    for j in range(10):\n",
    "        resArray.append(random.randint(lowerlimit, upperlimit))\n",
    "  \n",
    "    return resArray\n",
    "fre = Rand(lowerlimit, upperlimit)\n",
    "\n",
    "#print randomly generated numbers\n",
    "print (fre)"
   ]
  },
  {
   "cell_type": "raw",
   "metadata": {},
   "source": [
    "QUESTION 3\n",
    "Write a function that takes the array generated above in Question 2 as an argument and perform both the addition and multiplication operations on the array.\\ Print out the results of each operation."
   ]
  },
  {
   "cell_type": "code",
   "execution_count": null,
   "metadata": {
    "scrolled": true
   },
   "outputs": [],
   "source": [
    "#Function that performs arithmetic operations on resArray\n",
    "def Calc(a):\n",
    "    sumat = 0\n",
    "    times = 1\n",
    "    for i in a:\n",
    "        sumat = sumat + i\n",
    "        times = times * i\n",
    "    return sumat, times\n",
    "\n",
    "Calc(fre)"
   ]
  },
  {
   "cell_type": "raw",
   "metadata": {},
   "source": [
    "QUESTION 4\n",
    "Let us practise with the popular Collatz sequence.\n",
    "\n",
    "Write a function named collatz() that has one parameter named number. If number is even, then collatz() should print number // 2 and return the resulting value.\\ If number is odd, then collatz() should print and return (3 * number + 1).\n",
    "\n",
    "Then write a program that lets the user type in an integer and that keeps calling collatz() on that number until the function returns the value 1."
   ]
  },
  {
   "cell_type": "code",
   "execution_count": 1,
   "metadata": {},
   "outputs": [],
   "source": [
    "#Define function collatz\n",
    "def collatz(number ):    \n",
    "    #Check if number is even\n",
    "        if number % 2 == 0:\n",
    "            number = number // 2\n",
    "            print(\"number is even\")\n",
    "            #print (number )\n",
    "            return number\n",
    "        #else return ( 3 * number + 1) for odd \n",
    "        else:\n",
    "            print (\"number is odd\",)\n",
    "            number = 3 * number + 1\n",
    "            return number\n",
    "            #print(collatz(number))\n",
    "            "
   ]
  },
  {
   "cell_type": "code",
   "execution_count": 2,
   "metadata": {},
   "outputs": [
    {
     "name": "stdout",
     "output_type": "stream",
     "text": [
      " Specify integer  67\n",
      "number is odd\n",
      " Specify integer  78\n",
      "number is even\n",
      " Specify integer  2\n",
      "number is even\n"
     ]
    }
   ],
   "source": [
    "#Program that lets the user specify an integer and calls collatz till it returns 1\n",
    "#declare quit variable\n",
    "quit\n",
    " #print call collatz till it retuens 1\n",
    "while quit != 1:\n",
    "    #collect user data\n",
    "    numb = int (input(\" Specify integer  \"))\n",
    "    #Print number\n",
    "    quit = collatz(numb)\n",
    "    \n",
    "    "
   ]
  },
  {
   "cell_type": "code",
   "execution_count": null,
   "metadata": {},
   "outputs": [],
   "source": []
  },
  {
   "cell_type": "code",
   "execution_count": null,
   "metadata": {},
   "outputs": [],
   "source": []
  }
 ],
 "metadata": {
  "kernelspec": {
   "display_name": "Python 3",
   "language": "python",
   "name": "python3"
  },
  "language_info": {
   "codemirror_mode": {
    "name": "ipython",
    "version": 3
   },
   "file_extension": ".py",
   "mimetype": "text/x-python",
   "name": "python",
   "nbconvert_exporter": "python",
   "pygments_lexer": "ipython3",
   "version": "3.8.5"
  }
 },
 "nbformat": 4,
 "nbformat_minor": 5
}
