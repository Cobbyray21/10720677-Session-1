{
 "cells": [
  {
   "cell_type": "markdown",
   "id": "knowing-companion",
   "metadata": {},
   "source": [
    "# CSCD 319 - COMPUTER VISION\n",
    "\n",
    "## LAB SESSION 2: \n",
    "### TOPIC: Introduction to Convolutional Neural Networks (CNN) with MobileNet using Keras-Tensorflow."
   ]
  },
  {
   "cell_type": "code",
   "execution_count": null,
   "id": "fifteen-explorer",
   "metadata": {},
   "outputs": [],
   "source": []
  }
 ],
 "metadata": {
  "kernelspec": {
   "display_name": "Python 3",
   "language": "python",
   "name": "python3"
  },
  "language_info": {
   "codemirror_mode": {
    "name": "ipython",
    "version": 3
   },
   "file_extension": ".py",
   "mimetype": "text/x-python",
   "name": "python",
   "nbconvert_exporter": "python",
   "pygments_lexer": "ipython3",
   "version": "3.8.3"
  }
 },
 "nbformat": 4,
 "nbformat_minor": 5
}
